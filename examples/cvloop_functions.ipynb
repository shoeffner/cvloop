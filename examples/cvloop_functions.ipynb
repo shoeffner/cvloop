{
    "cells": [
        {
            "cell_type": "markdown",
            "metadata": {},
            "source": [
                "# cvloop functions\n\n",
                "This notebook shows an overview over all cvloop ",
                "functions provided in the [`cvloop.functions` module](",
                "https://github.com/shoeffner/cvloop/blob/",
                "develop/cvloop/functions.py)."
            ]
        },
        {
            "cell_type": "markdown",
            "metadata": {},
            "source": [
                "## `cvloop.functions.ForegroundExtractor` ",
                "<small>[[Source](https://github.com/shoeffner/cvloop/blob/",
                "develop/cvloop/functions.py#L7)]</small>\n\n",
                "Performs background subtraction using the supplied Subtractor and\n",
                "extracts the foreground accordingly.\n",
                "\n#### `ForegroundExtractor.__init__(...)`:\n\n",
                "Initializes the `ForegroundExtractor`.\n",
                "\n",
                "Uses the supplied BackgroundSubtractor as subtractor to get a mask\n",
                "and apply the mask to the image.\n",
                "\n",
                "**Args:**\n",
                "- *subtractor:*  A BackgroundSubtractor. Defaults to an instance of\n",
                "`BackgroundSubtractorMOG2`.\n",
                "\n"
            ]
        },
        {
            "cell_type": "code",
            "metadata": {},
            "outputs": [],
            "execution_count": null,
            "source": [
                "from cvloop import cvloop\n",
                "from cvloop.functions import ForegroundExtractor\n",
                "cvloop(function=ForegroundExtractor(), side_by_side=True)"
            ]
        },
        {
            "cell_type": "markdown",
            "metadata": {},
            "source": [
                "## `cvloop.functions.BackgroundSubtractorGMG` ",
                "<small>[[Source](https://github.com/shoeffner/cvloop/blob/",
                "develop/cvloop/functions.py#L30)]</small>\n\n",
                "Performs background subtraction with a mixture of gaussians.\n",
                "\n",
                "The method used was described by Godbehere, Matsukawa, and Goldberg in\n",
                "[Visual Tracking of Human Visitors under Variable-Lighting Conditions for a\n",
                "Responsive Audio Art Installation (2012)](\n",
                "http://goldberg.berkeley.edu/pubs/acc-2012-visual-tracking-final.pdf).\n",
                "\n",
                "See also\n",
                "http://docs.opencv.org/3.1.0/db/d5c/tutorial_py_bg_subtraction.html.\n",
                "\n",
                "\n#### `BackgroundSubtractorGMG.__init__(...)`:\n\n",
                "Initializes the `BackgroundSubtractorGMG`.\n",
                "\n",
                "*Note:* Requires OpenCV to be built with `--contrib` as it uses the\n",
                "`bgsegm` package.\n",
                "\n",
                "Unless a custom `structuring_element` is specified, it uses:\n",
                "`cv2.getStructuringElement(cv2.MORPH_ELLIPSE, (3, 3))`\n",
                "\n",
                "**Args:**\n",
                "- *structuring_element:*  The structuring element.\n",
                "\n"
            ]
        },
        {
            "cell_type": "code",
            "metadata": {},
            "outputs": [],
            "execution_count": null,
            "source": [
                "from cvloop import cvloop\n",
                "from cvloop.functions import BackgroundSubtractorGMG\n",
                "cvloop(function=BackgroundSubtractorGMG(), side_by_side=True)"
            ]
        },
        {
            "cell_type": "markdown",
            "metadata": {},
            "source": [
                "## `cvloop.functions.BackgroundSubtractorMOG` ",
                "<small>[[Source](https://github.com/shoeffner/cvloop/blob/",
                "develop/cvloop/functions.py#L66)]</small>\n\n",
                "Performs background subtraction with a mixture of gaussians.\n",
                "\n",
                "The method used was described by KaewTraKulPong and Bowden in\n",
                "[An improved adaptive background mixture model for real-time tracking with\n",
                "shadow detection (2001)](\n",
                "http://personal.ee.surrey.ac.uk/Personal/R.Bowden/publications/avbs01/avbs01.pdf).\n",
                "\n",
                "See also\n",
                "http://docs.opencv.org/3.1.0/db/d5c/tutorial_py_bg_subtraction.html.\n",
                "\n",
                "\n#### `BackgroundSubtractorMOG.__init__(...)`:\n\n",
                "Initializes the `BackgroundSubtractorMOG`.\n",
                "\n",
                "*Note:* Requires OpenCV to be built with `--contrib` as it uses the\n",
                "`bgsegm` package.\n",
                "\n"
            ]
        },
        {
            "cell_type": "code",
            "metadata": {},
            "outputs": [],
            "execution_count": null,
            "source": [
                "from cvloop import cvloop\n",
                "from cvloop.functions import BackgroundSubtractorMOG\n",
                "cvloop(function=BackgroundSubtractorMOG(), side_by_side=True)"
            ]
        },
        {
            "cell_type": "markdown",
            "metadata": {},
            "source": [
                "## `cvloop.functions.BackgroundSubtractorMOG2` ",
                "<small>[[Source](https://github.com/shoeffner/cvloop/blob/",
                "develop/cvloop/functions.py#L91)]</small>\n\n",
                "Performs background subtraction with a mixture of gaussians.\n",
                "\n",
                "The method used was described in two papers by Zivkovic and van der\n",
                "Heijden, [Improved adaptive Gausian mixture model for background\n",
                "subtraction (2004)](\n",
                "https://pdfs.semanticscholar.org/56b1/eee82a51ce17d72a91b5876a3281418679cc.pdf)\n",
                "and [Efficient Adaptive Density Estimation per Image Pixel for the\n",
                "Task of Background Subtraction (2006)](\n",
                "http://www.zoranz.net/Publications/zivkovicPRL2006.pdf)\n",
                "\n",
                "See also\n",
                "http://docs.opencv.org/3.1.0/db/d5c/tutorial_py_bg_subtraction.html.\n",
                "\n",
                "\n#### `BackgroundSubtractorMOG2.__init__(...)`:\n\n",
                "Initializes the `BackgroundSubtractorMOG2`.\n"
            ]
        },
        {
            "cell_type": "code",
            "metadata": {},
            "outputs": [],
            "execution_count": null,
            "source": [
                "from cvloop import cvloop\n",
                "from cvloop.functions import BackgroundSubtractorMOG2\n",
                "cvloop(function=BackgroundSubtractorMOG2(), side_by_side=True)"
            ]
        },
        {
            "cell_type": "markdown",
            "metadata": {},
            "source": [
                "## `cvloop.functions.Inverter` ",
                "<small>[[Source](https://github.com/shoeffner/cvloop/blob/",
                "develop/cvloop/functions.py#L114)]</small>\n\n",
                "Inverts the colors of the image.\n",
                "\n#### `Inverter.__init__(...)`:\n\n",
                "Initializes the `Inverter` with a high value.\n",
                "\n",
                "**Args:**\n",
                "- *high:*  the value from which the image has to be subtracted.\n",
                "Defaults to 255.\n",
                "\n"
            ]
        },
        {
            "cell_type": "code",
            "metadata": {},
            "outputs": [],
            "execution_count": null,
            "source": [
                "from cvloop import cvloop\n",
                "from cvloop.functions import Inverter\n",
                "cvloop(function=Inverter(), side_by_side=True)"
            ]
        },
        {
            "cell_type": "markdown",
            "metadata": {},
            "source": [
                "## `cvloop.functions.DrawHat` ",
                "<small>[[Source](https://github.com/shoeffner/cvloop/blob/",
                "develop/cvloop/functions.py#L131)]</small>\n\n",
                "Draws hats above detected faces.\n",
                "\n",
                "Uses a Haar cascade for face detection and draws provided hats above the\n",
                "detected faces.\n",
                "\n",
                "\n#### `DrawHat.__init__(...)`:\n\n",
                "Initializes a `DrawHat` instance.\n",
                "\n",
                "**Args:**\n",
                "- *hat_path:*      The path to the hat files.\n",
                "- *cascade_path:*  The path to the face cascade file.\n",
                "- *w_offset:*      Hat width additional scaling.\n",
                "- *x_offset:*      Number of pixels right to move hat.\n",
                "- *y_offset:*      Number of pixels down to move hat.\n",
                "- *draw_box:*      If True, draws boxes around detected faces.\n",
                "\n"
            ]
        },
        {
            "cell_type": "code",
            "metadata": {},
            "outputs": [],
            "execution_count": null,
            "source": [
                "from cvloop import cvloop\n",
                "from cvloop.functions import DrawHat\n",
                "cvloop(function=DrawHat(), side_by_side=True)"
            ]
        }
    ],
    "nbformat": 4,
    "nbformat_minor": 1,
    "metadata": {
        "language_info": {
            "codemirror_mode": {
                "name": "ipython",
                "version": 3
            },
            "file_extension": ".py",
            "mimetype": "text/x-python",
            "name": "python",
            "nbconvert_exporter": "python",
            "pygments_lexer": "ipython3",
            "version": "3.5.1+"
        }
    }
}