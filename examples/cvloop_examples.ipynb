{
    "cells": [
        {
            "cell_type": "markdown",
            "metadata": {},
            "source": [
                "# cvloop examples\n",
                "\n",
                "This notebook shows some examples on how to use cvloop.\n",
                "\n",
                "1. [Webcam stream](#Webcam-stream)\n",
                "1. [A word of caution](#A-word-of-caution)\n",
                "1. [Premade functions](#Premade-functions)\n",
                "1. [Custom functions](#Custom-functions)\n",
                "1. [Side by side](#Side-by-side)\n",
                "1. [Color conversion](#Color-conversion)\n",
                "1. [Custom color map](#Custom-color-map)\n",
                "1. [Multiple custom color maps](#Multiple-custom-color-maps)\n",
                "1. [Complex VideoCapture source](#Complex-VideoCapture-source)\n",
                "1. [Alternative video source](#Alternative-video-source)"
            ]
        },
        {
            "cell_type": "markdown",
            "metadata": {},
            "source": [
                "## Webcam stream\n",
                "\n",
                "Just run the webcam and show the output. Click on the blue power button (top right) to stop it."
            ]
        },
        {
            "cell_type": "code",
            "execution_count": null,
            "metadata": {},
            "outputs": [],
            "source": [
                "from cvloop import cvloop\n",
                "\n",
                "cvloop()"
            ]
        },
        {
            "cell_type": "code",
            "execution_count": null,
            "metadata": {},
            "outputs": [],
            "source": [
                "from cvloop import cvloop\n",
                "\n",
                "# Prints info about the image and skips thus the first frame. \n",
                "# Otherwise it behaves like the default.\n",
                "cvloop(print_info=True)"
            ]
        },
        {
            "cell_type": "markdown",
            "metadata": {},
            "source": [
                "## A word of caution\n",
                "\n",
                "It is important to keep a reference to the cvloop return value. If it is the last statement in a notebook cell, this is done automatically (as you can see in almost all examples), since notebooks store the last return value in `Out[]`. However, if you want to do something after starting the loop, you will have to keep a reference yourself."
            ]
        },
        {
            "cell_type": "code",
            "execution_count": null,
            "metadata": {},
            "outputs": [],
            "source": [
                "# This will stop automatically before even reading the first frame.\n",
                "from cvloop import cvloop\n",
                "cvloop()\n",
                "print('Oh no!')"
            ]
        },
        {
            "cell_type": "code",
            "execution_count": null,
            "metadata": {},
            "outputs": [],
            "source": [
                "# While this will work.\n",
                "from cvloop import cvloop\n",
                "loop = cvloop()\n",
                "print('Oh yeah!')"
            ]
        },
        {
            "cell_type": "markdown",
            "metadata": {},
            "source": [
                "## Premade functions\n",
                "\n",
                "The `cvloop.functions` module provides premade functions ready to use. Most of them are just simple wrappers around OpenCV functions or filters. Below are some examples, for more take a look at the [cvloop_functions](cvloop_functions.ipynb) notebook."
            ]
        },
        {
            "cell_type": "code",
            "execution_count": null,
            "metadata": {},
            "outputs": [],
            "source": [
                "from cvloop import cvloop\n",
                "from cvloop.functions import Inverter\n",
                "\n",
                "# Inverts the image.\n",
                "cvloop(function=Inverter())"
            ]
        },
        {
            "cell_type": "code",
            "execution_count": null,
            "metadata": {},
            "outputs": [],
            "source": [
                "from cvloop import cvloop\n",
                "from cvloop.functions import BackgroundSubtractorMOG2\n",
                "\n",
                "# Performs a background subtraction.\n",
                "cvloop(function=BackgroundSubtractorMOG2())"
            ]
        },
        {
            "cell_type": "markdown",
            "metadata": {},
            "source": [
                "## Custom functions\n",
                "\n",
                "It is possible to pass custom functions to the loop. The functions take an image as input and return an image as output:\n",
                "\n",
                "    def custom_function(image):\n",
                "        modified_image = ... # do something cool\n",
                "        return modified_image\n",
                "\n",
                "The example performs background subtraction on the webcam stream (see [OpenCV Documentation](http://docs.opencv.org/3.1.0/db/d5c/tutorial_py_bg_subtraction.html) for details)."
            ]
        },
        {
            "cell_type": "code",
            "execution_count": null,
            "metadata": {},
            "outputs": [],
            "source": [
                "from cvloop import cvloop\n",
                "import cv2\n",
                "\n",
                "# This is the same as cvloop.functions.cv_background_subtractor_mog2.\n",
                "def mog2(frame):\n",
                "    return mog2.fgbg.apply(frame)\n",
                "mog2.fgbg = cv2.createBackgroundSubtractorMOG2()\n",
                "\n",
                "cvloop(function=mog2)"
            ]
        },
        {
            "cell_type": "markdown",
            "metadata": {},
            "source": [
                "## Side by side\n",
                "\n",
                "To compare the input image with the output, you can pass the `side_by_side` option."
            ]
        },
        {
            "cell_type": "code",
            "execution_count": null,
            "metadata": {},
            "outputs": [],
            "source": [
                "from cvloop import cvloop\n",
                "from cvloop.functions import Inverter\n",
                "\n",
                "cvloop(function=Inverter(), side_by_side=True)"
            ]
        },
        {
            "cell_type": "markdown",
            "metadata": {},
            "source": [
                "## Color conversion\n",
                "\n",
                "If the image is a color image and `convert_color` is not `-1`, the image is converted accordingly. The default is the conversion to RGB from BGR, i.e. `cv2.COLOR_BGR2RGB`. The conversion happens before the original image is processed by the passed function."
            ]
        },
        {
            "cell_type": "code",
            "execution_count": null,
            "metadata": {},
            "outputs": [],
            "source": [
                "import cv2\n",
                "from cvloop import cvloop\n",
                "\n",
                "cvloop(convert_color=cv2.COLOR_BGR2GRAY)"
            ]
        },
        {
            "cell_type": "code",
            "execution_count": null,
            "metadata": {},
            "outputs": [],
            "source": [
                "from cvloop import cvloop\n",
                "\n",
                "cvloop(convert_color=-1)"
            ]
        },
        {
            "cell_type": "code",
            "execution_count": null,
            "metadata": {},
            "outputs": [],
            "source": [
                "import cv2\n",
                "from cvloop import cvloop\n",
                "\n",
                "def conv(frame):\n",
                "    return cv2.cvtColor(frame, cv2.COLOR_BGR2XYZ)\n",
                "\n",
                "cvloop(function=conv, convert_color=-1, side_by_side=True)"
            ]
        },
        {
            "cell_type": "markdown",
            "metadata": {},
            "source": [
                "## Custom color map\n",
                "\n",
                "By default the plot function makes some guesses about how to show an image. If the image data consists of only two dimensions, gray scale is assumed, resulting in the usage of the grayscale color map. If the image data is three dimensional, it is assumed to be in RGB colors. (Note that unless overwritten, cvloop performs the conversion from OpenCVs standard BGR automatically!)\n",
                "\n",
                "However, it is possible to provide custom colormaps, as will be demonstrated below. In general the colormaps should be designed such that [matplotlib.pyplot.imshow](http://matplotlib.org/api/pyplot_api.html#matplotlib.pyplot.imshow) can handle them &ndash; [the colormaps reference](http://matplotlib.org/examples/color/colormaps_reference.html) is a good starting point. To apply a color map properly, the images are converted to grayscale first, using $\\text{Gray} = .299 R + .587 G + .114 B$. If the image was already in grayscale, it is preserved.\n",
                "\n"
            ]
        },
        {
            "cell_type": "code",
            "execution_count": null,
            "metadata": {},
            "outputs": [],
            "source": [
                "from cvloop import cvloop\n",
                "\n",
                "cvloop(cmaps='Paired')"
            ]
        },
        {
            "cell_type": "markdown",
            "metadata": {},
            "source": [
                "If a simple color map is provided, it is applied to all images."
            ]
        },
        {
            "cell_type": "code",
            "execution_count": null,
            "metadata": {},
            "outputs": [],
            "source": [
                "from cvloop import cvloop\n",
                "\n",
                "cvloop(cmaps='Paired', side_by_side=True)"
            ]
        },
        {
            "cell_type": "markdown",
            "metadata": {},
            "source": [
                "## Multiple custom color maps\n",
                "\n",
                "It is also possible to provide a color map for the input and the output image individually. `None` entries will be ignored."
            ]
        },
        {
            "cell_type": "code",
            "execution_count": null,
            "metadata": {},
            "outputs": [],
            "source": [
                "from cvloop import cvloop\n",
                "\n",
                "cvloop(cmaps=('terrain', 'Paired'), side_by_side=True)"
            ]
        },
        {
            "cell_type": "code",
            "execution_count": null,
            "metadata": {},
            "outputs": [],
            "source": [
                "from cvloop import cvloop\n",
                "\n",
                "cvloop(cmaps=(None, 'Paired'), side_by_side=True)"
            ]
        },
        {
            "cell_type": "code",
            "execution_count": null,
            "metadata": {},
            "outputs": [],
            "source": [
                "from cvloop import cvloop\n",
                "\n",
                "cvloop(cmaps=(None, None), side_by_side=True)"
            ]
        },
        {
            "cell_type": "markdown",
            "metadata": {},
            "source": [
                "## Complex VideoCapture source\n",
                "\n",
                "Sometimes it is important to change properties of the cv2 VideoCapture source. `cvloop` allows passing a prepared VideoCapture (note that you have to release the resources yourself or kill the kernel)."
            ]
        },
        {
            "cell_type": "code",
            "execution_count": null,
            "metadata": {},
            "outputs": [],
            "source": [
                "import cv2\n",
                "from cvloop import cvloop\n",
                "\n",
                "capture = cv2.VideoCapture(0)\n",
                "capture.set(cv2.CAP_PROP_FRAME_WIDTH, 640.)\n",
                "capture.set(cv2.CAP_PROP_FRAME_HEIGHT, 480.)\n",
                "cvloop(source=capture, function=lambda frame: 255 - frame)"
            ]
        },
        {
            "cell_type": "code",
            "execution_count": null,
            "metadata": {},
            "outputs": [],
            "source": [
                "# releasing the resource\n",
                "capture.release()"
            ]
        },
        {
            "cell_type": "markdown",
            "metadata": {},
            "source": [
                "## Alternative video source\n",
                "\n",
                "It is also possible to provide your own \"video source\". The only thing you have to do is implement a read method which can be invoked without arguments and returns two values, `ret` and `frame`, where `ret` is `False` if no frame is given (`frame == None`). Note however that `ret == False` interrupts the video process.\n",
                "\n",
                "Also it is important to notice that if you **don't** have a `get` method which allows to get the properties `cv2.CAP_PROP_FRAME_WIDTH` and `cv2.CAP_PROP_FRAME_HEIGHT`, the first frame will be skipped to determine those dimensions. This might change in future version to avoid losing frames."
            ]
        },
        {
            "cell_type": "code",
            "execution_count": null,
            "metadata": {},
            "outputs": [],
            "source": [
                "import time\n",
                "import numpy as np\n",
                "from cvloop import cvloop\n",
                "\n",
                "def map_to_image(vals, minval, maxval):\n",
                "    return ((vals - np.min(vals)) * (maxval - 1) / (np.max(vals) - np.min(vals)) + minval).astype(np.int)\n",
                "\n",
                "class MySource:\n",
                "    def __init__(self, dim=(50, 25)):\n",
                "        self.shift = 0\n",
                "        self.W, self.H = dim\n",
                "        self.image = np.ones((self.W, self.H))\n",
                "        self.stop = 100\n",
                "\n",
                "    def read(self):\n",
                "        time.sleep(1/30)\n",
                "        self.stop -= 1\n",
                "\n",
                "        self.image = np.ones((self.W, self.H))\n",
                "        self.shift = (self.shift + .1) % (np.pi * 2)\n",
                "        x = np.arange(0, 2*np.pi, 0.001) + self.shift\n",
                "        y = np.sin(x)\n",
                "        self.image[map_to_image(x, 0, self.W), map_to_image(y, 0, self.H)] = 0\n",
                "        \n",
                "        return self.stop >= 0, self.image.T\n",
                "\n",
                "custom_source = MySource()\n",
                "cvloop(source=custom_source, cmaps='terrain')"
            ]
        }
    ],
    "metadata": {
        "language_info": {
            "codemirror_mode": {
                "name": "ipython",
                "version": 3
            },
            "file_extension": ".py",
            "mimetype": "text/x-python",
            "name": "python",
            "nbconvert_exporter": "python",
            "pygments_lexer": "ipython3",
            "version": "3.6.0"
        }
    },
    "nbformat": 4,
    "nbformat_minor": 1
}